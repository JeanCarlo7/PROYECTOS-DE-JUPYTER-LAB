{
 "cells": [
  {
   "cell_type": "markdown",
   "metadata": {},
   "source": [
    "# ***Distribución Uniforme Continua***"
   ]
  },
  {
   "cell_type": "markdown",
   "metadata": {},
   "source": [
    "1. >Dos Persona llegan a una estación de tren siguiendo una distribución uniforme entre las 10:00 a.m y las 11:00 a.m de forma independiente la una de la otra.***Se pide calcular la probabilidad de que la primera persona que llegue deba esperar cuando mucho 10 minutos a la siguiente persona en llegar.***"
   ]
  },
  {
   "cell_type": "markdown",
   "metadata": {},
   "source": [
    "- ***A~Uniforme(0.0,60.0)***\n",
    "- ***B~Uniforme(0,60)***\n",
    "- ***P(|A-B|<=10.0)***"
   ]
  },
  {
   "cell_type": "code",
   "execution_count": 4,
   "metadata": {},
   "outputs": [
    {
     "data": {
      "text/plain": [
       "'P(|A-B|<=10.0)=0.305177'"
      ]
     },
     "execution_count": 4,
     "metadata": {},
     "output_type": "execute_result"
    }
   ],
   "source": [
    "import random\n",
    "i=0\n",
    "s=0\n",
    "while (i<1000000):\n",
    "    A=0.0+ ((60.0-0.0)*random.random())\n",
    "    B=0.0+ ((60.0-0.0)*random.random())\n",
    "    if(abs(A-B)<=10.0):\n",
    "        s=s+1\n",
    "    i=i+1\n",
    "\"P(|A-B|<=10.0)=\"+str(float(s)/1000000)"
   ]
  },
  {
   "cell_type": "markdown",
   "metadata": {},
   "source": [
    "# ***Distribución Normal***"
   ]
  },
  {
   "cell_type": "markdown",
   "metadata": {},
   "source": [
    "2. >Las notas de un estudiante tienen una media de 65 y una desviación estandar de 10. Se pide calcular la probabilidad de que la nota obtenida en el siguiente examen sea mayor que 80, asumiendo que los datos siguen una Distribución Normal con los parametros previstos."
   ]
  },
  {
   "cell_type": "markdown",
   "metadata": {},
   "source": [
    "- ***Escala de calificaciones [0,100]***\n",
    "- ***Nos piden P(Nota > 80) = 1-P (Nota <= 80)***"
   ]
  },
  {
   "cell_type": "code",
   "execution_count": 5,
   "metadata": {},
   "outputs": [
    {
     "data": {
      "text/plain": [
       "'P (Nota>80) =0.066601'"
      ]
     },
     "execution_count": 5,
     "metadata": {},
     "output_type": "execute_result"
    }
   ],
   "source": [
    "import random\n",
    "i=0\n",
    "s=0\n",
    "while(i<1000000):\n",
    "    r=random.gauss(65,10)\n",
    "    if(r>80):\n",
    "        s=s+1\n",
    "    i=i+1\n",
    "\"P (Nota>80) =\"+str(s/1000000)"
   ]
  },
  {
   "cell_type": "code",
   "execution_count": null,
   "metadata": {},
   "outputs": [],
   "source": []
  }
 ],
 "metadata": {
  "kernelspec": {
   "display_name": "Python 3",
   "language": "python",
   "name": "python3"
  },
  "language_info": {
   "codemirror_mode": {
    "name": "ipython",
    "version": 3
   },
   "file_extension": ".py",
   "mimetype": "text/x-python",
   "name": "python",
   "nbconvert_exporter": "python",
   "pygments_lexer": "ipython3",
   "version": "3.8.5"
  }
 },
 "nbformat": 4,
 "nbformat_minor": 4
}
