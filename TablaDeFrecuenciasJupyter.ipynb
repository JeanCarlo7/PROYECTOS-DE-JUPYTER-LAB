{
 "cells": [
  {
   "cell_type": "markdown",
   "metadata": {},
   "source": [
    "# Gráficos de Barras y Circulares en Phyton "
   ]
  },
  {
   "cell_type": "markdown",
   "metadata": {},
   "source": [
    "## Gráficos de Barras Verticales"
   ]
  },
  {
   "cell_type": "markdown",
   "metadata": {},
   "source": [
    "El Gráfico que aparace a continuación muestra los porcentajes de uso de diferentes lenguajes de Programación según Statista.com en 2019, por parte de programadores Web a nivel Internacional."
   ]
  },
  {
   "cell_type": "code",
   "execution_count": 10,
   "metadata": {},
   "outputs": [
    {
     "data": {
      "image/png": "[encoded data removed]",
      "text/plain": [
       "<Figure size 864x432 with 1 Axes>"
      ]
     },
     "metadata": {
      "needs_background": "light"
     },
     "output_type": "display_data"
    }
   ],
   "source": [
    "# Importando las librerias \n",
    "import matplotlib.pyplot as plt\n",
    "import numpy as np\n",
    "# Crear la serie de Datos para la Grafica de Barras\n",
    "Lenguajes= [\"Python\",\"Java\",\"JavaScript\",\"C#\",\"PHP\",\"C/C++\",\"R\",\"Objetive-C\",\"Swift\",\"Matlab\",\"TypeScript\",\"Ruby\"]\n",
    "# Crear arreglo con los porcentajes de Uso\n",
    "Porcentaje_Uso=np.array([25.95,21.42,8.26,7.62,7.37,6.31,4.04,3.15,2.56,2.04,1.57,1.53])\n",
    "Posicion= np.arange(len(Lenguajes))\n",
    "#Creando el Grafico de Barras Verticales\n",
    "plt.figure(figsize=(12,6))# Medida en Pulgadas del Eje X y Y\n",
    "plt.bar(Posicion,Porcentaje_Uso,align=\"center\",alpha=0.9,color=\"y\")\n",
    "plt.xlabel(\"Lenguajes de Programacion\")\n",
    "plt.ylabel(\"Porcentajes de Uso\")\n",
    "plt.title(\"LENGUAJES DE PROGRAMACION MAS USADOS EN EL 2019\")\n",
    "# LISTA DE COLORES:\n",
    "# b=AZul, g=Verde, r=Rojo, c=Cyan, m=Magenta, y=Amarillo, k=Negro, w=Blanco\n",
    "plt.xticks(Posicion,Lenguajes)# Ver los Ticks del Eje X, es decir sus variables\n",
    "plt.show()"
   ]
  },
  {
   "cell_type": "markdown",
   "metadata": {},
   "source": [
    "# GOLES DE MESSI PRIMERA TEMPORADA"
   ]
  },
  {
   "cell_type": "markdown",
   "metadata": {},
   "source": [
    "### Vamos a ver aspectos básicos de estadística como:\n",
    "### Frecuencia absoluta\n",
    "### Frecuencia absoluta acumulada\n",
    "### Frecuencia relativa\n",
    "### Frecuencia relativa absoluta\n",
    "Vamos a tabular esa información y crear un pequeño gráfico con esos resultados, todo esto lo iremos elaborando con python usando un Notebook de Jupyter. "
   ]
  },
  {
   "cell_type": "markdown",
   "metadata": {},
   "source": [
    "En primer instancia cargaremos las librerías que creemos necesitaremos, a veces durante el proceso de análisis se suele necesitar de más librerías que las que cargamos en un principio y simplemente se van agregando de acuerdo a la necesidad que se nos presente. En este caso empezaremos por cargas Pandas, Matplotlib y Numpy."
   ]
  },
  {
   "cell_type": "code",
   "execution_count": 44,
   "metadata": {},
   "outputs": [
    {
     "data": {
      "text/html": [
       "<div>\n",
       "<style scoped>\n",
       "    .dataframe tbody tr th:only-of-type {\n",
       "        vertical-align: middle;\n",
       "    }\n",
       "\n",
       "    .dataframe tbody tr th {\n",
       "        vertical-align: top;\n",
       "    }\n",
       "\n",
       "    .dataframe thead th {\n",
       "        text-align: right;\n",
       "    }\n",
       "</style>\n",
       "<table border=\"1\" class=\"dataframe\">\n",
       "  <thead>\n",
       "    <tr style=\"text-align: right;\">\n",
       "      <th></th>\n",
       "      <th>Xi</th>\n",
       "      <th>Frecuencia Absoluta</th>\n",
       "    </tr>\n",
       "  </thead>\n",
       "  <tbody>\n",
       "    <tr>\n",
       "      <th>0</th>\n",
       "      <td>0</td>\n",
       "      <td>13</td>\n",
       "    </tr>\n",
       "    <tr>\n",
       "      <th>1</th>\n",
       "      <td>1</td>\n",
       "      <td>10</td>\n",
       "    </tr>\n",
       "    <tr>\n",
       "      <th>2</th>\n",
       "      <td>2</td>\n",
       "      <td>7</td>\n",
       "    </tr>\n",
       "    <tr>\n",
       "      <th>3</th>\n",
       "      <td>3</td>\n",
       "      <td>6</td>\n",
       "    </tr>\n",
       "    <tr>\n",
       "      <th>4</th>\n",
       "      <td>4</td>\n",
       "      <td>2</td>\n",
       "    </tr>\n",
       "  </tbody>\n",
       "</table>\n",
       "</div>"
      ],
      "text/plain": [
       "   Xi  Frecuencia Absoluta\n",
       "0   0                   13\n",
       "1   1                   10\n",
       "2   2                    7\n",
       "3   3                    6\n",
       "4   4                    2"
      ]
     },
     "execution_count": 44,
     "metadata": {},
     "output_type": "execute_result"
    }
   ],
   "source": [
    "#Import libraries\n",
    "import numpy as np\n",
    "import matplotlib.pyplot as plt\n",
    "import pandas as pd\n",
    "\n",
    "#Cargamos el archivo CSV\n",
    "data = pd.read_csv('GolesMessi.csv')\n",
    "\n",
    "#Vemos los primeros datos\n",
    "data.head()"
   ]
  },
  {
   "cell_type": "markdown",
   "metadata": {},
   "source": [
    "Ahora para poder empezar a crear nuestra tabla de frecuencias tenemos que obtener únicamente las clases de nuestro dataframa, para esto haremos otro dataframe de la siguiente manera."
   ]
  },
  {
   "cell_type": "code",
   "execution_count": 52,
   "metadata": {},
   "outputs": [
    {
     "data": {
      "text/html": [
       "<div>\n",
       "<style scoped>\n",
       "    .dataframe tbody tr th:only-of-type {\n",
       "        vertical-align: middle;\n",
       "    }\n",
       "\n",
       "    .dataframe tbody tr th {\n",
       "        vertical-align: top;\n",
       "    }\n",
       "\n",
       "    .dataframe thead th {\n",
       "        text-align: right;\n",
       "    }\n",
       "</style>\n",
       "<table border=\"1\" class=\"dataframe\">\n",
       "  <thead>\n",
       "    <tr style=\"text-align: right;\">\n",
       "      <th></th>\n",
       "      <th>Frecuencia Absoluta</th>\n",
       "    </tr>\n",
       "  </thead>\n",
       "  <tbody>\n",
       "    <tr>\n",
       "      <th>0</th>\n",
       "      <td>13</td>\n",
       "    </tr>\n",
       "    <tr>\n",
       "      <th>1</th>\n",
       "      <td>10</td>\n",
       "    </tr>\n",
       "    <tr>\n",
       "      <th>2</th>\n",
       "      <td>7</td>\n",
       "    </tr>\n",
       "    <tr>\n",
       "      <th>3</th>\n",
       "      <td>6</td>\n",
       "    </tr>\n",
       "    <tr>\n",
       "      <th>4</th>\n",
       "      <td>2</td>\n",
       "    </tr>\n",
       "  </tbody>\n",
       "</table>\n",
       "</div>"
      ],
      "text/plain": [
       "   Frecuencia Absoluta\n",
       "0                   13\n",
       "1                   10\n",
       "2                    7\n",
       "3                    6\n",
       "4                    2"
      ]
     },
     "execution_count": 52,
     "metadata": {},
     "output_type": "execute_result"
    }
   ],
   "source": [
    "#Dataframe que contendra las clases únicamente\n",
    "#Sacamos los datos únicos de data\n",
    "lis = data[\"Frecuencia Absoluta\"].unique()\n",
    "#Creamos el dataframe que contendrá las clases\n",
    "dat = pd.DataFrame(lis, columns=[\"Frecuencia Absoluta\"])\n",
    "#Observamos las clases que tenemos\n",
    "dat"
   ]
  },
  {
   "cell_type": "markdown",
   "metadata": {},
   "source": [
    "Seguiremos con la columna de frecuencia relativa, la columna de frecuencias relativas es la misma información que la columna de frecuencias abosolutas pero representada en porcentajes."
   ]
  },
  {
   "cell_type": "code",
   "execution_count": 53,
   "metadata": {},
   "outputs": [
    {
     "data": {
      "text/html": [
       "<div>\n",
       "<style scoped>\n",
       "    .dataframe tbody tr th:only-of-type {\n",
       "        vertical-align: middle;\n",
       "    }\n",
       "\n",
       "    .dataframe tbody tr th {\n",
       "        vertical-align: top;\n",
       "    }\n",
       "\n",
       "    .dataframe thead th {\n",
       "        text-align: right;\n",
       "    }\n",
       "</style>\n",
       "<table border=\"1\" class=\"dataframe\">\n",
       "  <thead>\n",
       "    <tr style=\"text-align: right;\">\n",
       "      <th></th>\n",
       "      <th>Frecuencia Absoluta</th>\n",
       "      <th>Frecuencia Relativa</th>\n",
       "    </tr>\n",
       "  </thead>\n",
       "  <tbody>\n",
       "    <tr>\n",
       "      <th>0</th>\n",
       "      <td>13</td>\n",
       "      <td>34.210526</td>\n",
       "    </tr>\n",
       "    <tr>\n",
       "      <th>1</th>\n",
       "      <td>10</td>\n",
       "      <td>26.315789</td>\n",
       "    </tr>\n",
       "    <tr>\n",
       "      <th>2</th>\n",
       "      <td>7</td>\n",
       "      <td>18.421053</td>\n",
       "    </tr>\n",
       "    <tr>\n",
       "      <th>3</th>\n",
       "      <td>6</td>\n",
       "      <td>15.789474</td>\n",
       "    </tr>\n",
       "    <tr>\n",
       "      <th>4</th>\n",
       "      <td>2</td>\n",
       "      <td>5.263158</td>\n",
       "    </tr>\n",
       "  </tbody>\n",
       "</table>\n",
       "</div>"
      ],
      "text/plain": [
       "   Frecuencia Absoluta  Frecuencia Relativa\n",
       "0                   13            34.210526\n",
       "1                   10            26.315789\n",
       "2                    7            18.421053\n",
       "3                    6            15.789474\n",
       "4                    2             5.263158"
      ]
     },
     "execution_count": 53,
     "metadata": {},
     "output_type": "execute_result"
    }
   ],
   "source": [
    "#Tabbla de frecuencia relativa\n",
    "datahi = 100 * dat[\"Frecuencia Absoluta\"] / 38\n",
    "datahi = datahi.values\n",
    "#Agregamos nueva columna de frecuentas relativas\n",
    "dat[\"Frecuencia Relativa\"] = datahi\n",
    "dat"
   ]
  },
  {
   "cell_type": "markdown",
   "metadata": {},
   "source": [
    "Continuamos con la columna de frecuencias absolutas acumuladas, ésta en cada renglón se va sumando el dato de la columna de frecuencias absolutas, como se observa de la siguiente manera."
   ]
  },
  {
   "cell_type": "code",
   "execution_count": 62,
   "metadata": {},
   "outputs": [
    {
     "data": {
      "text/html": [
       "<div>\n",
       "<style scoped>\n",
       "    .dataframe tbody tr th:only-of-type {\n",
       "        vertical-align: middle;\n",
       "    }\n",
       "\n",
       "    .dataframe tbody tr th {\n",
       "        vertical-align: top;\n",
       "    }\n",
       "\n",
       "    .dataframe thead th {\n",
       "        text-align: right;\n",
       "    }\n",
       "</style>\n",
       "<table border=\"1\" class=\"dataframe\">\n",
       "  <thead>\n",
       "    <tr style=\"text-align: right;\">\n",
       "      <th></th>\n",
       "      <th>Frecuencia Absoluta</th>\n",
       "      <th>Frecuencia Relativa</th>\n",
       "      <th>Frecuencia Absoluta Acumulada</th>\n",
       "    </tr>\n",
       "  </thead>\n",
       "  <tbody>\n",
       "    <tr>\n",
       "      <th>0</th>\n",
       "      <td>13</td>\n",
       "      <td>34.210526</td>\n",
       "      <td>13</td>\n",
       "    </tr>\n",
       "    <tr>\n",
       "      <th>1</th>\n",
       "      <td>10</td>\n",
       "      <td>26.315789</td>\n",
       "      <td>23</td>\n",
       "    </tr>\n",
       "    <tr>\n",
       "      <th>2</th>\n",
       "      <td>7</td>\n",
       "      <td>18.421053</td>\n",
       "      <td>30</td>\n",
       "    </tr>\n",
       "    <tr>\n",
       "      <th>3</th>\n",
       "      <td>6</td>\n",
       "      <td>15.789474</td>\n",
       "      <td>36</td>\n",
       "    </tr>\n",
       "    <tr>\n",
       "      <th>4</th>\n",
       "      <td>2</td>\n",
       "      <td>5.263158</td>\n",
       "      <td>38</td>\n",
       "    </tr>\n",
       "  </tbody>\n",
       "</table>\n",
       "</div>"
      ],
      "text/plain": [
       "   Frecuencia Absoluta  Frecuencia Relativa  Frecuencia Absoluta Acumulada\n",
       "0                   13            34.210526                             13\n",
       "1                   10            26.315789                             23\n",
       "2                    7            18.421053                             30\n",
       "3                    6            15.789474                             36\n",
       "4                    2             5.263158                             38"
      ]
     },
     "execution_count": 62,
     "metadata": {},
     "output_type": "execute_result"
    }
   ],
   "source": [
    "#Obtenemos las frecuencias absolutas acumuladas\n",
    "#Sacamos una lista de los valores donde obtendremos la FI\n",
    "Fi = dat[\"Frecuencia Absoluta\"].values\n",
    "#Recorremos la lista para ir creando una nueva lista con las sumas\n",
    "#Obtener la frecuencia absoluta acumulada\n",
    "a=[]\n",
    "b=0\n",
    "for c in Fi:\n",
    "    b=c+b\n",
    "    a.append(b)\n",
    "#Agregamos la nueva columna Fi al Dataframe dat\n",
    "dat[\"Frecuencia Absoluta Acumulada\"]=a\n",
    "dat"
   ]
  },
  {
   "cell_type": "markdown",
   "metadata": {},
   "source": [
    "Terminamos nuestra tabla de frecuencias con la columna de Frecuencias relativas acumuladas que se comparte de la misma manera que la columna de Frecuencias absolutas acumuladas pero en porcentaje."
   ]
  },
  {
   "cell_type": "code",
   "execution_count": 75,
   "metadata": {},
   "outputs": [
    {
     "data": {
      "text/html": [
       "<div>\n",
       "<style scoped>\n",
       "    .dataframe tbody tr th:only-of-type {\n",
       "        vertical-align: middle;\n",
       "    }\n",
       "\n",
       "    .dataframe tbody tr th {\n",
       "        vertical-align: top;\n",
       "    }\n",
       "\n",
       "    .dataframe thead th {\n",
       "        text-align: right;\n",
       "    }\n",
       "</style>\n",
       "<table border=\"1\" class=\"dataframe\">\n",
       "  <thead>\n",
       "    <tr style=\"text-align: right;\">\n",
       "      <th></th>\n",
       "      <th>Frecuencia Absoluta</th>\n",
       "      <th>Frecuencia Relativa</th>\n",
       "      <th>Frecuencia Absoluta Acumulada</th>\n",
       "      <th>Frecuencia Relativa Acumulada</th>\n",
       "    </tr>\n",
       "  </thead>\n",
       "  <tbody>\n",
       "    <tr>\n",
       "      <th>0</th>\n",
       "      <td>13</td>\n",
       "      <td>34.210526</td>\n",
       "      <td>13</td>\n",
       "      <td>34.210526</td>\n",
       "    </tr>\n",
       "    <tr>\n",
       "      <th>1</th>\n",
       "      <td>10</td>\n",
       "      <td>26.315789</td>\n",
       "      <td>23</td>\n",
       "      <td>60.526316</td>\n",
       "    </tr>\n",
       "    <tr>\n",
       "      <th>2</th>\n",
       "      <td>7</td>\n",
       "      <td>18.421053</td>\n",
       "      <td>30</td>\n",
       "      <td>78.947368</td>\n",
       "    </tr>\n",
       "    <tr>\n",
       "      <th>3</th>\n",
       "      <td>6</td>\n",
       "      <td>15.789474</td>\n",
       "      <td>36</td>\n",
       "      <td>94.736842</td>\n",
       "    </tr>\n",
       "    <tr>\n",
       "      <th>4</th>\n",
       "      <td>2</td>\n",
       "      <td>5.263158</td>\n",
       "      <td>38</td>\n",
       "      <td>100.000000</td>\n",
       "    </tr>\n",
       "  </tbody>\n",
       "</table>\n",
       "</div>"
      ],
      "text/plain": [
       "   Frecuencia Absoluta  Frecuencia Relativa  Frecuencia Absoluta Acumulada  \\\n",
       "0                   13            34.210526                             13   \n",
       "1                   10            26.315789                             23   \n",
       "2                    7            18.421053                             30   \n",
       "3                    6            15.789474                             36   \n",
       "4                    2             5.263158                             38   \n",
       "\n",
       "   Frecuencia Relativa Acumulada  \n",
       "0                      34.210526  \n",
       "1                      60.526316  \n",
       "2                      78.947368  \n",
       "3                      94.736842  \n",
       "4                     100.000000  "
      ]
     },
     "execution_count": 75,
     "metadata": {},
     "output_type": "execute_result"
    }
   ],
   "source": [
    "#Recorremos lista para obtener la frecuencia relativa acumulada\n",
    "Hi = dat[\"Frecuencia Relativa\"].values\n",
    "#Obtenemos Hi\n",
    "a = []\n",
    "b = 0\n",
    "for c in Hi:\n",
    "    b = c + b\n",
    "    a.append(b)\n",
    "\n",
    "#Agregamos la nueva columna Hi al Dataframe\n",
    "dat[\"Frecuencia Relativa Acumulada\"] = a\n",
    "dat"
   ]
  },
  {
   "cell_type": "markdown",
   "metadata": {},
   "source": [
    "Ya tenemos nuestra tabla de frecuencias. Podemos terminar este análisis realizando una pequeña gráfica para que sea más representativa visualmente."
   ]
  },
  {
   "cell_type": "code",
   "execution_count": 76,
   "metadata": {},
   "outputs": [
    {
     "data": {
      "image/png": "[encoded data removed]",
      "text/plain": [
       "<Figure size 432x288 with 1 Axes>"
      ]
     },
     "metadata": {},
     "output_type": "display_data"
    }
   ],
   "source": [
    "#Asignamos labels and sizes para el gráfico\n",
    "labels = dat[\"Frecuencia Absoluta\"]\n",
    "sizes = dat[\"Frecuencia Relativa\"]\n",
    "#explode = (0,0.1,0,0)\n",
    "#Dibujamos y creamos el gráfico\n",
    "fig1, ax1 = plt.subplots()\n",
    "ax1.pie(sizes, labels = labels,\n",
    "autopct = '%1.1f%%', shadow = True, startangle = 90)\n",
    "ax1.axis('equal')\n",
    "#Mostramos y guardamos\n",
    "plt.xlabel(\"GOLES DE MESSI PRIMERA TEMPORADA\")\n",
    "plt.show()"
   ]
  },
  {
   "cell_type": "code",
   "execution_count": null,
   "metadata": {},
   "outputs": [],
   "source": []
  }
 ],
 "metadata": {
  "kernelspec": {
   "display_name": "Python 3",
   "language": "python",
   "name": "python3"
  },
  "language_info": {
   "codemirror_mode": {
    "name": "ipython",
    "version": 3
   },
   "file_extension": ".py",
   "mimetype": "text/x-python",
   "name": "python",
   "nbconvert_exporter": "python",
   "pygments_lexer": "ipython3",
   "version": "3.8.5"
  }
 },
 "nbformat": 4,
 "nbformat_minor": 4
}
